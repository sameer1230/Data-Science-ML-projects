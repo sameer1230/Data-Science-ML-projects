{
 "cells": [
  {
   "cell_type": "code",
   "execution_count": 19,
   "metadata": {},
   "outputs": [],
   "source": [
    "from sklearn.datasets import load_boston\n",
    "from sklearn.linear_model import LinearRegression\n",
    "from sklearn.metrics import mean_squared_error \n",
    "\n",
    "import pandas as pd\n",
    "import numpy as np"
   ]
  },
  {
   "cell_type": "code",
   "execution_count": 20,
   "metadata": {},
   "outputs": [
    {
     "data": {
      "text/plain": [
       "(506, 1)"
      ]
     },
     "execution_count": 20,
     "metadata": {},
     "output_type": "execute_result"
    }
   ],
   "source": [
    "# Gather Data\n",
    "\n",
    "boston_dataset = load_boston()\n",
    "data = pd.DataFrame(data=boston_dataset.data, columns=boston_dataset.feature_names)\n",
    "features = data.drop(['INDUS', 'AGE'], axis=1)\n",
    "\n",
    "log_prices = np.log(boston_dataset.target)\n",
    "# log_prices.shape\n",
    "target = pd.DataFrame(log_prices, columns=['PRICE'])\n",
    "target.shape"
   ]
  },
  {
   "cell_type": "code",
   "execution_count": 21,
   "metadata": {},
   "outputs": [
    {
     "data": {
      "text/plain": [
       "array([[3.59376071e+00, 1.13636364e+01, 6.91699605e-02, 5.54695059e-01,\n",
       "        6.28463439e+00, 3.79504269e+00, 9.54940711e+00, 4.08237154e+02,\n",
       "        1.84555336e+01, 3.56674032e+02, 1.26530632e+01]])"
      ]
     },
     "execution_count": 21,
     "metadata": {},
     "output_type": "execute_result"
    }
   ],
   "source": [
    "CRIME_IDX = 0\n",
    "ZN_IDX = 1\n",
    "CHAS_IDX = 2\n",
    "RM_IDX = 4\n",
    "PTRATIO_IDX = 8\n",
    "\n",
    "# property_stats = np.ndarray(shape=(1, 11))\n",
    "# property_stats[0][CRIME_IDX] = features['CRIM'].mean()\n",
    "# property_stats[0][ZN_IDX] = features['ZN'].mean()\n",
    "# property_stats[0][CHAS_IDX] = features['CHAS'].mean()\n",
    "\n",
    "property_stats = features.mean().values.reshape(1, 11)\n",
    "property_stats"
   ]
  },
  {
   "cell_type": "code",
   "execution_count": 22,
   "metadata": {},
   "outputs": [
    {
     "data": {
      "text/plain": [
       "array([[3.59376071e+00, 1.13636364e+01, 6.91699605e-02, 5.54695059e-01,\n",
       "        6.28463439e+00, 3.79504269e+00, 9.54940711e+00, 4.08237154e+02,\n",
       "        1.84555336e+01, 3.56674032e+02, 1.26530632e+01]])"
      ]
     },
     "execution_count": 22,
     "metadata": {},
     "output_type": "execute_result"
    }
   ],
   "source": [
    "type(features.mean())\n",
    "type(features.mean().values)\n",
    "features.mean().values.shape\n",
    "features.mean().values.reshape(1, 11)"
   ]
  },
  {
   "cell_type": "code",
   "execution_count": 23,
   "metadata": {},
   "outputs": [
    {
     "data": {
      "text/plain": [
       "array([3.59376071e+00, 1.13636364e+01, 6.91699605e-02, 5.54695059e-01,\n",
       "       6.28463439e+00, 3.79504269e+00, 9.54940711e+00, 4.08237154e+02,\n",
       "       1.84555336e+01, 3.56674032e+02, 1.26530632e+01])"
      ]
     },
     "execution_count": 23,
     "metadata": {},
     "output_type": "execute_result"
    }
   ],
   "source": [
    "features.mean().values\n"
   ]
  },
  {
   "cell_type": "code",
   "execution_count": 24,
   "metadata": {},
   "outputs": [],
   "source": [
    "regr = LinearRegression().fit(features, target)\n",
    "fitted_vals = regr.predict(features)\n",
    "MSE = mean_squared_error(target, fitted_vals)\n",
    "RMSE = np.sqrt(MSE)"
   ]
  },
  {
   "cell_type": "code",
   "execution_count": 25,
   "metadata": {},
   "outputs": [],
   "source": [
    "def get_log_estimate(nr_rooms, students_per_classroom, next_to_river=False, high_confidence=True):\n",
    "    \n",
    "    # Configure property\n",
    "    property_stats[0][RM_IDX] = nr_rooms\n",
    "    property_stats[0][PTRATIO_IDX] = students_per_classroom\n",
    "    \n",
    "    if next_to_river:\n",
    "        property_stats[0][CHAS_IDX] = 1\n",
    "    else:\n",
    "        property_stats[0][CHAS_IDX] = 0\n",
    "        \n",
    "    # Make Prediction\n",
    "    log_estimate = regr.predict(property_stats)[0][0]\n",
    "    \n",
    "    # Calc Range\n",
    "    \n",
    "    if high_confidence:\n",
    "        upper_bound = log_estimate + 2*RMSE\n",
    "        lower_bound = log_estimate - 2*RMSE\n",
    "        interval = 95\n",
    "        \n",
    "    else:\n",
    "        upper_bound = log_estimate + RMSE\n",
    "        lower_bound = log_estimate - RMSE\n",
    "        interval = 68\n",
    "    \n",
    "    return log_estimate, upper_bound, lower_bound, interval"
   ]
  },
  {
   "cell_type": "code",
   "execution_count": 26,
   "metadata": {},
   "outputs": [
    {
     "data": {
      "text/plain": [
       "(2.7784264893000006, 2.965972198228978, 2.590880780371023, 68)"
      ]
     },
     "execution_count": 26,
     "metadata": {},
     "output_type": "execute_result"
    }
   ],
   "source": [
    "get_log_estimate(3, 20, next_to_river=True, high_confidence=False)"
   ]
  },
  {
   "cell_type": "code",
   "execution_count": 27,
   "metadata": {},
   "outputs": [
    {
     "data": {
      "text/plain": [
       "21.2"
      ]
     },
     "execution_count": 27,
     "metadata": {},
     "output_type": "execute_result"
    }
   ],
   "source": [
    "np.median(boston_dataset.target)"
   ]
  },
  {
   "cell_type": "code",
   "execution_count": 28,
   "metadata": {},
   "outputs": [
    {
     "name": "stdout",
     "output_type": "stream",
     "text": [
      "The Estimated property value is 826000.0.\n",
      "At 68% confidence the valuation range is USD 685000.0 at the lower and 996000.0 at the high end.\n"
     ]
    }
   ],
   "source": [
    "# convert log price estimate using 1970s prices, upper and lower bounds to todays prices,\n",
    "# rounding values to nearest 1000 dollars\n",
    "\n",
    "zillow_median_price = 583.3\n",
    "scale_factor = zillow_median_price / np.median(boston_dataset.target)\n",
    "\n",
    "log_est, upper, lower, conf = get_log_estimate(9, 15, False, False)\n",
    "\n",
    "# Convert To Todays Dollars\n",
    "\n",
    "dollar_est = np.e**log_est * 1000 * scale_factor\n",
    "dollar_high = np.e**upper * 1000 * scale_factor\n",
    "dollar_low = np.e**lower * 1000 * scale_factor\n",
    "\n",
    "# Round the dollar values to nearest thousand\n",
    "\n",
    "rounded_est = np.around(dollar_est, -3)\n",
    "rounded_high = np.around(dollar_high, -3)\n",
    "rounded_low = np.around(dollar_low, -3)\n",
    "\n",
    "print(f'The Estimated property value is {rounded_est}.')\n",
    "print(f'At {conf}% confidence the valuation range is USD {rounded_low} at the lower and {rounded_high} at the high end.')"
   ]
  },
  {
   "cell_type": "code",
   "execution_count": 29,
   "metadata": {},
   "outputs": [],
   "source": [
    "def get_dollar_estimate(rm, ptratio, chas=False, large_range=True):\n",
    "    \"\"\"Estimate the price of a property in Boston.\n",
    "    Keyword arguments:\n",
    "    rm -- number of rooms in the property\n",
    "    ptratio -- number of students per teacher in the classroom for the school in the area\n",
    "    chas -- True if the property is next to the river, False otherwise\n",
    "    large_range -- True for a 95% prediction interval, False for a 68% interval.\n",
    "    \n",
    "    \"\"\"\n",
    "    \n",
    "    if rm < 1 or ptratio < 1:\n",
    "        print('That is unrealistic.Try again')\n",
    "        return\n",
    "\n",
    "    log_est, upper, lower, conf = get_log_estimate(rm, ptratio, chas, large_range)\n",
    "\n",
    "    # Convert To Todays Dollars\n",
    "\n",
    "    dollar_est = np.e**log_est * 1000 * scale_factor\n",
    "    dollar_high = np.e**upper * 1000 * scale_factor\n",
    "    dollar_low = np.e**lower * 1000 * scale_factor\n",
    "\n",
    "    # Round the dollar values to nearest thousand\n",
    "\n",
    "    rounded_est = np.around(dollar_est, -3)\n",
    "    rounded_high = np.around(dollar_high, -3)\n",
    "    rounded_low = np.around(dollar_low, -3)\n",
    "\n",
    "    print(f'The Estimated property value is {rounded_est}.')\n",
    "    print(f'At {conf}% confidence the valuation range is USD {rounded_low} at the lower and {rounded_high} at the high end.')"
   ]
  },
  {
   "cell_type": "code",
   "execution_count": 30,
   "metadata": {},
   "outputs": [
    {
     "name": "stdout",
     "output_type": "stream",
     "text": [
      "That is unrealistic.Try again\n"
     ]
    }
   ],
   "source": [
    "get_dollar_estimate(5, -1, True)"
   ]
  },
  {
   "cell_type": "code",
   "execution_count": 31,
   "metadata": {},
   "outputs": [
    {
     "name": "stdout",
     "output_type": "stream",
     "text": [
      "The Estimated property value is 783000.0.\n",
      "At 95% confidence the valuation range is USD 538000.0 at the lower and 1140000.0 at     the high end.\n"
     ]
    }
   ],
   "source": [
    "import boston_valuation as val\n",
    "\n",
    "val.get_dollar_estimate(6, 12, True)"
   ]
  },
  {
   "cell_type": "code",
   "execution_count": null,
   "metadata": {},
   "outputs": [],
   "source": []
  },
  {
   "cell_type": "code",
   "execution_count": null,
   "metadata": {},
   "outputs": [],
   "source": []
  },
  {
   "cell_type": "code",
   "execution_count": null,
   "metadata": {},
   "outputs": [],
   "source": []
  },
  {
   "cell_type": "code",
   "execution_count": null,
   "metadata": {},
   "outputs": [],
   "source": []
  },
  {
   "cell_type": "code",
   "execution_count": null,
   "metadata": {},
   "outputs": [],
   "source": []
  }
 ],
 "metadata": {
  "kernelspec": {
   "display_name": "Python 3",
   "language": "python",
   "name": "python3"
  },
  "language_info": {
   "codemirror_mode": {
    "name": "ipython",
    "version": 3
   },
   "file_extension": ".py",
   "mimetype": "text/x-python",
   "name": "python",
   "nbconvert_exporter": "python",
   "pygments_lexer": "ipython3",
   "version": "3.7.0"
  }
 },
 "nbformat": 4,
 "nbformat_minor": 2
}
